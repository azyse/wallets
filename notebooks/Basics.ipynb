{
 "cells": [
  {
   "cell_type": "code",
   "execution_count": 1,
   "metadata": {},
   "outputs": [],
   "source": [
    "cd -q  \"..\""
   ]
  },
  {
   "cell_type": "code",
   "execution_count": 2,
   "metadata": {},
   "outputs": [],
   "source": [
    "import clvm\n",
    "import clvm_tools"
   ]
  },
  {
   "cell_type": "code",
   "execution_count": 3,
   "metadata": {},
   "outputs": [],
   "source": [
    "from clvm_tools.binutils import assemble, disassemble\n",
    "from clvm_tools.clvmc import compile_clvm"
   ]
  },
  {
   "cell_type": "code",
   "execution_count": 4,
   "metadata": {},
   "outputs": [
    {
     "data": {
      "text/plain": [
       "SExp([[b'\\x05', [b'\\x06', [b'\\x07', [b'\\x03']]], [b'\\x06', [b'\\x07', [b'\\x07', [b'\\x03']]]]]])"
      ]
     },
     "execution_count": 4,
     "metadata": {},
     "output_type": "execute_result"
    }
   ],
   "source": [
    "assemble(f\"((c (f (r (a))) (f (r (r (a))))))\")"
   ]
  },
  {
   "cell_type": "code",
   "execution_count": 5,
   "metadata": {},
   "outputs": [],
   "source": [
    "# we use it to merge the outputs of two programs that create lists\n",
    "def merge_two_lists(list1=None, list2=None):\n",
    "    if (list1 is None) or (list2 is None):\n",
    "        return None\n",
    "    ret = f\"((c (q ((c (f (a)) (a)))) (c (q ((c (i ((c (i (f (r (a))) (q (q ())) (q (q 1))) (a))) (q (f (c (f (r (r (a)))) (q ())))) (q ((c (f (a)) (c (f (a)) (c (r (f (r (a)))) (c (c (f (f (r (a)))) (f (r (r (a))))) (q ())))))))) (a)))) (c {list1} (c {list2} (q ()))))))\"\n",
    "    return ret"
   ]
  },
  {
   "cell_type": "code",
   "execution_count": 6,
   "metadata": {},
   "outputs": [
    {
     "data": {
      "text/plain": [
       "'((c (q ((c (f (a)) (a)))) (c (q ((c (i ((c (i (f (r (a))) (q (q ())) (q (q 1))) (a))) (q (f (c (f (r (r (a)))) (q ())))) (q ((c (f (a)) (c (f (a)) (c (r (f (r (a)))) (c (c (f (f (r (a)))) (f (r (r (a))))) (q ())))))))) (a)))) (c [123] (c [345] (q ()))))))'"
      ]
     },
     "execution_count": 6,
     "metadata": {},
     "output_type": "execute_result"
    }
   ],
   "source": [
    "merge_two_lists([123], [345])"
   ]
  },
  {
   "cell_type": "code",
   "execution_count": 7,
   "metadata": {},
   "outputs": [],
   "source": [
    "test = assemble('((c (q ((c (f (a)) (a)))) (c (q ((c (i ((c (i (f (r (a))) (q (q ())) (q (q 1))) (a))) (q (f (c (f (r (r (a)))) (q ())))) (q ((c (f (a)) (c (f (a)) (c (r (f (r (a)))) (c (c (f (f (r (a)))) (f (r (r (a))))) (q ())))))))) (a)))) (c [123] (c [345] (q ()))))))')"
   ]
  },
  {
   "cell_type": "code",
   "execution_count": 8,
   "metadata": {},
   "outputs": [],
   "source": [
    "from stages import stage_2"
   ]
  },
  {
   "cell_type": "code",
   "execution_count": 9,
   "metadata": {},
   "outputs": [],
   "source": [
    "cost, result = stage_2.run_program(stage_2.run, test)"
   ]
  },
  {
   "cell_type": "code",
   "execution_count": 10,
   "metadata": {},
   "outputs": [
    {
     "data": {
      "text/plain": [
       "'(((c (f (a)) (a))) ((c (i ((c (i (f (r (a))) (q (q ())) (q (q 1))) (a))) (q (f (c (f (r (r (a)))) (q ())))) (q ((c (f (a)) (c (f (a)) (c (r (f (r (a)))) (c (c (f (f (r (a)))) (f (r (r (a))))) (q ())))))))) (a))) \"[123]\" \"[345]\")'"
      ]
     },
     "execution_count": 10,
     "metadata": {},
     "output_type": "execute_result"
    }
   ],
   "source": [
    "disassemble(result)"
   ]
  },
  {
   "cell_type": "code",
   "execution_count": 11,
   "metadata": {},
   "outputs": [
    {
     "data": {
      "text/plain": [
       "'ffffff05ffff06ffff038080ffff03808080ffffff05ffff04ffffff05ffff04ffff06ffff07ffff03808080ffff01ffff01ff808080ffff01ffff01ff01808080ffff03808080ffff01ffff06ffff05ffff06ffff07ffff07ffff0380808080ffff01ff8080808080ffff01ffffff05ffff06ffff038080ffff05ffff06ffff038080ffff05ffff07ffff06ffff07ffff0380808080ffff05ffff05ffff06ffff06ffff07ffff0380808080ffff06ffff07ffff07ffff038080808080ffff01ff808080808080808080ffff03808080ff855b3132335dff855b3334355d80'"
      ]
     },
     "execution_count": 11,
     "metadata": {},
     "output_type": "execute_result"
    }
   ],
   "source": [
    "result.as_bin().hex()"
   ]
  },
  {
   "cell_type": "code",
   "execution_count": 19,
   "metadata": {},
   "outputs": [],
   "source": [
    "from clvm_tools.binutils import disassemble_to_ir, assemble_from_ir"
   ]
  },
  {
   "cell_type": "code",
   "execution_count": 23,
   "metadata": {},
   "outputs": [],
   "source": [
    "a = assemble_from_ir(disassemble_to_ir(result))"
   ]
  },
  {
   "cell_type": "code",
   "execution_count": 25,
   "metadata": {},
   "outputs": [
    {
     "data": {
      "text/plain": [
       "SExp([[[b'\\x05', [b'\\x06', [b'\\x03']], [b'\\x03']]], [[b'\\x05', [b'\\x04', [[b'\\x05', [b'\\x04', [b'\\x06', [b'\\x07', [b'\\x03']]], [b'\\x01', [b'\\x01', b'']], [b'\\x01', [b'\\x01', b'\\x01']]], [b'\\x03']]], [b'\\x01', [b'\\x06', [b'\\x05', [b'\\x06', [b'\\x07', [b'\\x07', [b'\\x03']]]], [b'\\x01', b'']]]], [b'\\x01', [[b'\\x05', [b'\\x06', [b'\\x03']], [b'\\x05', [b'\\x06', [b'\\x03']], [b'\\x05', [b'\\x07', [b'\\x06', [b'\\x07', [b'\\x03']]]], [b'\\x05', [b'\\x05', [b'\\x06', [b'\\x06', [b'\\x07', [b'\\x03']]]], [b'\\x06', [b'\\x07', [b'\\x07', [b'\\x03']]]]], [b'\\x01', b'']]]]]]]], [b'\\x03']]], b'[123]', b'[345]'])"
      ]
     },
     "execution_count": 25,
     "metadata": {},
     "output_type": "execute_result"
    }
   ],
   "source": [
    "a"
   ]
  },
  {
   "cell_type": "code",
   "execution_count": null,
   "metadata": {},
   "outputs": [],
   "source": []
  }
 ],
 "metadata": {
  "kernelspec": {
   "display_name": "Python 3",
   "language": "python",
   "name": "python3"
  },
  "language_info": {
   "codemirror_mode": {
    "name": "ipython",
    "version": 3
   },
   "file_extension": ".py",
   "mimetype": "text/x-python",
   "name": "python",
   "nbconvert_exporter": "python",
   "pygments_lexer": "ipython3",
   "version": "3.7.4"
  }
 },
 "nbformat": 4,
 "nbformat_minor": 4
}
